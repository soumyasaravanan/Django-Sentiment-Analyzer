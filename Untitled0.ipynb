{
  "nbformat": 4,
  "nbformat_minor": 0,
  "metadata": {
    "colab": {
      "provenance": [],
      "authorship_tag": "ABX9TyPHBgVemvOIMzui7ShQslwS",
      "include_colab_link": true
    },
    "kernelspec": {
      "name": "python3",
      "display_name": "Python 3"
    },
    "language_info": {
      "name": "python"
    }
  },
  "cells": [
    {
      "cell_type": "markdown",
      "metadata": {
        "id": "view-in-github",
        "colab_type": "text"
      },
      "source": [
        "<a href=\"https://colab.research.google.com/github/soumyasaravanan/Django-Sentiment-Analyzer/blob/main/Untitled0.ipynb\" target=\"_parent\"><img src=\"https://colab.research.google.com/assets/colab-badge.svg\" alt=\"Open In Colab\"/></a>"
      ]
    },
    {
      "cell_type": "code",
      "execution_count": null,
      "metadata": {
        "colab": {
          "base_uri": "https://localhost:8080/"
        },
        "id": "SSxU2QtuAzL_",
        "outputId": "ffa83e54-c232-4117-d6cf-0964d74176fb"
      },
      "outputs": [
        {
          "output_type": "stream",
          "name": "stderr",
          "text": [
            "[nltk_data] Downloading package stopwords to /root/nltk_data...\n",
            "[nltk_data]   Package stopwords is already up-to-date!\n",
            "[nltk_data] Downloading package wordnet to /root/nltk_data...\n",
            "[nltk_data]   Package wordnet is already up-to-date!\n"
          ]
        }
      ],
      "source": [
        "import nltk\n",
        "nltk.download('stopwords')\n",
        "nltk.download('wordnet')\n",
        "import pandas as pd\n",
        "import sklearn\n",
        "from sklearn.feature_extraction.text import CountVectorizer\n",
        "from sklearn.model_selection import train_test_split, GridSearchCV\n",
        "from sklearn.linear_model import LinearRegression\n",
        "from sklearn.linear_model import LogisticRegression\n",
        "from sklearn.preprocessing import StandardScaler\n",
        "import re\n",
        "from nltk.corpus import stopwords\n",
        "from nltk.stem import WordNetLemmatizer\n",
        "from sklearn.utils import shuffle\n",
        "from sklearn.metrics import confusion_matrix,f1_score,precision_score,recall_score\n",
        "wordnet_lemmatizer = WordNetLemmatizer()"
      ]
    },
    {
      "cell_type": "code",
      "source": [
        "df = pd.read_csv('Tweets.csv')"
      ],
      "metadata": {
        "id": "CDtN_wuZCtU0"
      },
      "execution_count": null,
      "outputs": []
    },
    {
      "cell_type": "code",
      "source": [
        "def normalizer(tweet):\n",
        "      only_letters = re.sub(\"[^a-zA-Z]\", \" \", tweet)\n",
        "      only_letters = only_letters.lower()\n",
        "      only_letters = only_letters.split()\n",
        "      filtered_result = [word for word in only_letters if word not in stopwords.words('english')]\n",
        "      lemmas = [wordnet_lemmatizer.lemmatize(t) for t in filtered_result]\n",
        "      lemmas = ' '.join(lemmas)\n",
        "      return lemmas"
      ],
      "metadata": {
        "id": "kx9TtQIOF5iw"
      },
      "execution_count": null,
      "outputs": []
    },
    {
      "cell_type": "code",
      "source": [
        "df = shuffle(df)\n",
        "y = df['airline_sentiment']\n",
        "x = df.text.apply(normalizer)"
      ],
      "metadata": {
        "id": "6_3xVxPzF-1P"
      },
      "execution_count": null,
      "outputs": []
    },
    {
      "cell_type": "code",
      "source": [
        "vectorizer = CountVectorizer()\n",
        "x_vectorized = vectorizer.fit_transform(x)"
      ],
      "metadata": {
        "id": "LabPeRa1GztR"
      },
      "execution_count": null,
      "outputs": []
    },
    {
      "cell_type": "code",
      "source": [
        "train_x,val_x,train_y,val_y = train_test_split(x_vectorized,y)"
      ],
      "metadata": {
        "id": "_a4Fgss-G3Nw"
      },
      "execution_count": null,
      "outputs": []
    },
    {
      "cell_type": "code",
      "source": [
        "regressor = LogisticRegression(multi_class='multinomial', solver='newton-cg')\n",
        "model = regressor.fit(train_x, train_y)"
      ],
      "metadata": {
        "id": "jN95n-r7G7af"
      },
      "execution_count": null,
      "outputs": []
    },
    {
      "cell_type": "code",
      "source": [
        "params = {'C': [0.001, 0.01, 0.1, 1, 10, 100, 1000] }\n",
        "gs_clf = GridSearchCV(model, params, n_jobs=1, cv=5)\n",
        "gs_clf = gs_clf.fit(train_x, train_y)\n",
        "model = gs_clf.best_estimator_"
      ],
      "metadata": {
        "id": "niDm8eubG-Dv"
      },
      "execution_count": null,
      "outputs": []
    },
    {
      "cell_type": "code",
      "source": [
        "y_pred = model.predict(val_x)\n",
        "\n",
        "_f1 = f1_score(val_y, y_pred, average='micro')\n",
        "_confusion = confusion_matrix(val_y, y_pred)\n",
        "__precision = precision_score(val_y, y_pred, average='micro')\n",
        "_recall = recall_score(val_y, y_pred, average='micro')\n",
        "_statistics = {'f1_score': _f1,\n",
        "               'confusion_matrix': _confusion,\n",
        "               'precision': __precision,\n",
        "               'recall': _recall\n",
        "              }"
      ],
      "metadata": {
        "id": "5081qhYgHRbV"
      },
      "execution_count": null,
      "outputs": []
    },
    {
      "cell_type": "code",
      "source": [
        "print(_statistics)"
      ],
      "metadata": {
        "colab": {
          "base_uri": "https://localhost:8080/"
        },
        "id": "SnzfWRioHVtE",
        "outputId": "25f65855-33ca-42da-9fa1-c581b1926ac9"
      },
      "execution_count": null,
      "outputs": [
        {
          "output_type": "stream",
          "name": "stdout",
          "text": [
            "{'f1_score': 0.7786885245901639, 'confusion_matrix': array([[1983,  187,   78],\n",
            "       [ 278,  471,   83],\n",
            "       [  99,   85,  396]]), 'precision': 0.7786885245901639, 'recall': 0.7786885245901639}\n"
          ]
        }
      ]
    },
    {
      "cell_type": "code",
      "source": [
        "test_feature = vectorizer.transform(['Meat Week Day 3: Tummy hurts every night'])\n",
        "model.predict(test_feature)"
      ],
      "metadata": {
        "colab": {
          "base_uri": "https://localhost:8080/"
        },
        "id": "tFkletjaHZNA",
        "outputId": "92dddf7d-40fd-4cf3-a6fa-c335a01d55dc"
      },
      "execution_count": null,
      "outputs": [
        {
          "output_type": "execute_result",
          "data": {
            "text/plain": [
              "array(['negative'], dtype=object)"
            ]
          },
          "metadata": {},
          "execution_count": 42
        }
      ]
    },
    {
      "cell_type": "code",
      "source": [
        "test_feature = vectorizer.transform(['Movie is good'])\n",
        "model.predict(test_feature)"
      ],
      "metadata": {
        "colab": {
          "base_uri": "https://localhost:8080/"
        },
        "id": "ekhMWn83HcJS",
        "outputId": "da22499a-930b-4b76-d361-5da74d0301ad"
      },
      "execution_count": null,
      "outputs": [
        {
          "output_type": "execute_result",
          "data": {
            "text/plain": [
              "array(['positive'], dtype=object)"
            ]
          },
          "metadata": {},
          "execution_count": 43
        }
      ]
    },
    {
      "cell_type": "code",
      "source": [
        "test_feature = vectorizer.transform(['I\\'m okay'])\n",
        "model.predict(test_feature)"
      ],
      "metadata": {
        "colab": {
          "base_uri": "https://localhost:8080/"
        },
        "id": "y1ZZ6Hw7Hgnj",
        "outputId": "39a96f1f-deed-4f3a-dee1-90068d7df653"
      },
      "execution_count": null,
      "outputs": [
        {
          "output_type": "execute_result",
          "data": {
            "text/plain": [
              "array(['neutral'], dtype=object)"
            ]
          },
          "metadata": {},
          "execution_count": 44
        }
      ]
    },
    {
      "cell_type": "code",
      "source": [
        "import pickle"
      ],
      "metadata": {
        "id": "6sCkQXBGHkvS"
      },
      "execution_count": null,
      "outputs": []
    },
    {
      "cell_type": "code",
      "source": [
        "pickl = {'vectorizer': vectorizer,\n",
        "         'model': model\n",
        "         }\n",
        "pickle.dump(pickl, open('models'+\".p\", \"wb\"))"
      ],
      "metadata": {
        "id": "-bX1riXcHnhQ"
      },
      "execution_count": null,
      "outputs": []
    },
    {
      "cell_type": "code",
      "source": [
        "with open('co.pkl','wb') as file:\n",
        "  pickle.dump(model,file)"
      ],
      "metadata": {
        "id": "2L9gV_2oH8v_"
      },
      "execution_count": null,
      "outputs": []
    }
  ]
}